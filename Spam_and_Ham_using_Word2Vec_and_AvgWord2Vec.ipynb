{
  "nbformat": 4,
  "nbformat_minor": 0,
  "metadata": {
    "colab": {
      "provenance": []
    },
    "kernelspec": {
      "name": "python3",
      "display_name": "Python 3"
    },
    "language_info": {
      "name": "python"
    }
  },
  "cells": [
    {
      "cell_type": "markdown",
      "source": [
        "#### Project Introduction:\n",
        "\n",
        "This project aims to determine if a message is a spam or not. For word to vector conversion, we are going to use word2vec and avgword2vec and see the difference.\n",
        "importantly, we are going to train the project using Word2Vec."
      ],
      "metadata": {
        "id": "j6B_-_mX2GZf"
      }
    },
    {
      "cell_type": "code",
      "source": [
        "# Installing the dependencies\n",
        "#!pip install gensim"
      ],
      "metadata": {
        "id": "JcfT2DTn2IpT"
      },
      "execution_count": 123,
      "outputs": []
    },
    {
      "cell_type": "code",
      "source": [
        "import pandas as pd\n",
        "import numpy as np\n",
        "import matplotlib.pyplot as plt\n",
        "import os\n",
        "from google.colab import drive\n",
        "drive.mount('/content/drive')"
      ],
      "metadata": {
        "colab": {
          "base_uri": "https://localhost:8080/"
        },
        "id": "UxL7HTFH2RAT",
        "outputId": "80b9de0f-db70-46c5-efd6-6903349b395c"
      },
      "execution_count": 124,
      "outputs": [
        {
          "output_type": "stream",
          "name": "stdout",
          "text": [
            "Drive already mounted at /content/drive; to attempt to forcibly remount, call drive.mount(\"/content/drive\", force_remount=True).\n"
          ]
        }
      ]
    },
    {
      "cell_type": "code",
      "source": [
        "import gensim\n",
        "from gensim.models import Word2Vec, KeyedVectors"
      ],
      "metadata": {
        "id": "kRiBd__Z2hoZ"
      },
      "execution_count": 125,
      "outputs": []
    },
    {
      "cell_type": "markdown",
      "source": [
        "#### Google Pretrained Word2Vec Model:\n",
        "We are going to use the google pretrained word2vec model for feature representation which has been trained on a huge amount of data.\n",
        "This google word2vec has been trained on google news and after using this pretrained model on words, the words get converted into vectors with 300 dimensions. Therefore, the shape of each word would be 300 dimensions.\n",
        "these dimensions help to preserve the underlying the meaning of the words so the words having similar meaning are close to each other on the vector space.\n",
        "\n",
        "#### Cosine Similarity:\n",
        "Cosine similarity is used to identify the distance between two words or the similarity between two words."
      ],
      "metadata": {
        "id": "pX24OzQw3TUa"
      }
    },
    {
      "cell_type": "code",
      "source": [
        "# downloading the google pretrained word2vec model for feature representation of the vectors\n",
        "import gensim.downloader as api\n",
        "#wv=api.load('word2vec-google-news-300')\n"
      ],
      "metadata": {
        "id": "GuTB2hNb27Ft"
      },
      "execution_count": 126,
      "outputs": []
    },
    {
      "cell_type": "code",
      "source": [],
      "metadata": {
        "id": "RsUjDLGp8enw"
      },
      "execution_count": 126,
      "outputs": []
    },
    {
      "cell_type": "code",
      "source": [
        "# the word gets converted into a vector with 300 dimensions with the google pretrained word2vec model.\n",
        "vec_player=wv['player']\n",
        "vec_player.shape"
      ],
      "metadata": {
        "colab": {
          "base_uri": "https://localhost:8080/"
        },
        "id": "acsD5Mfs3EBJ",
        "outputId": "e346a658-3e18-478d-f95d-3b314d9e8ca5"
      },
      "execution_count": 127,
      "outputs": [
        {
          "output_type": "execute_result",
          "data": {
            "text/plain": [
              "(300,)"
            ]
          },
          "metadata": {},
          "execution_count": 127
        }
      ]
    },
    {
      "cell_type": "code",
      "source": [
        "df=pd.read_csv('drive/MyDrive/spam.csv',encoding=\"ISO-8859-1\")\n",
        "  "
      ],
      "metadata": {
        "id": "2Ie_LKq-Cf15"
      },
      "execution_count": 128,
      "outputs": []
    },
    {
      "cell_type": "code",
      "source": [
        "#dropping the irrelavent columns\n",
        "df.drop(['Unnamed: 2','Unnamed: 3','Unnamed: 4'], axis=1, inplace=True)\n"
      ],
      "metadata": {
        "id": "6sguvE03WXmZ"
      },
      "execution_count": 129,
      "outputs": []
    },
    {
      "cell_type": "code",
      "source": [
        "# renaming the column names\n",
        "df.rename(columns={'v1':'label','v2':'message'},inplace=True)\n"
      ],
      "metadata": {
        "id": "TGtlEB5ZWaX2"
      },
      "execution_count": 130,
      "outputs": []
    },
    {
      "cell_type": "code",
      "source": [
        "df.head()"
      ],
      "metadata": {
        "colab": {
          "base_uri": "https://localhost:8080/",
          "height": 206
        },
        "id": "4vH1wVj0UARs",
        "outputId": "332c6652-fe8e-42a4-f7fd-87f752b78bd2"
      },
      "execution_count": 131,
      "outputs": [
        {
          "output_type": "execute_result",
          "data": {
            "text/plain": [
              "  label                                            message\n",
              "0   ham  Go until jurong point, crazy.. Available only ...\n",
              "1   ham                      Ok lar... Joking wif u oni...\n",
              "2  spam  Free entry in 2 a wkly comp to win FA Cup fina...\n",
              "3   ham  U dun say so early hor... U c already then say...\n",
              "4   ham  Nah I don't think he goes to usf, he lives aro..."
            ],
            "text/html": [
              "\n",
              "  <div id=\"df-0ca7c03a-9ba7-4462-909f-b157f3a20b26\">\n",
              "    <div class=\"colab-df-container\">\n",
              "      <div>\n",
              "<style scoped>\n",
              "    .dataframe tbody tr th:only-of-type {\n",
              "        vertical-align: middle;\n",
              "    }\n",
              "\n",
              "    .dataframe tbody tr th {\n",
              "        vertical-align: top;\n",
              "    }\n",
              "\n",
              "    .dataframe thead th {\n",
              "        text-align: right;\n",
              "    }\n",
              "</style>\n",
              "<table border=\"1\" class=\"dataframe\">\n",
              "  <thead>\n",
              "    <tr style=\"text-align: right;\">\n",
              "      <th></th>\n",
              "      <th>label</th>\n",
              "      <th>message</th>\n",
              "    </tr>\n",
              "  </thead>\n",
              "  <tbody>\n",
              "    <tr>\n",
              "      <th>0</th>\n",
              "      <td>ham</td>\n",
              "      <td>Go until jurong point, crazy.. Available only ...</td>\n",
              "    </tr>\n",
              "    <tr>\n",
              "      <th>1</th>\n",
              "      <td>ham</td>\n",
              "      <td>Ok lar... Joking wif u oni...</td>\n",
              "    </tr>\n",
              "    <tr>\n",
              "      <th>2</th>\n",
              "      <td>spam</td>\n",
              "      <td>Free entry in 2 a wkly comp to win FA Cup fina...</td>\n",
              "    </tr>\n",
              "    <tr>\n",
              "      <th>3</th>\n",
              "      <td>ham</td>\n",
              "      <td>U dun say so early hor... U c already then say...</td>\n",
              "    </tr>\n",
              "    <tr>\n",
              "      <th>4</th>\n",
              "      <td>ham</td>\n",
              "      <td>Nah I don't think he goes to usf, he lives aro...</td>\n",
              "    </tr>\n",
              "  </tbody>\n",
              "</table>\n",
              "</div>\n",
              "      <button class=\"colab-df-convert\" onclick=\"convertToInteractive('df-0ca7c03a-9ba7-4462-909f-b157f3a20b26')\"\n",
              "              title=\"Convert this dataframe to an interactive table.\"\n",
              "              style=\"display:none;\">\n",
              "        \n",
              "  <svg xmlns=\"http://www.w3.org/2000/svg\" height=\"24px\"viewBox=\"0 0 24 24\"\n",
              "       width=\"24px\">\n",
              "    <path d=\"M0 0h24v24H0V0z\" fill=\"none\"/>\n",
              "    <path d=\"M18.56 5.44l.94 2.06.94-2.06 2.06-.94-2.06-.94-.94-2.06-.94 2.06-2.06.94zm-11 1L8.5 8.5l.94-2.06 2.06-.94-2.06-.94L8.5 2.5l-.94 2.06-2.06.94zm10 10l.94 2.06.94-2.06 2.06-.94-2.06-.94-.94-2.06-.94 2.06-2.06.94z\"/><path d=\"M17.41 7.96l-1.37-1.37c-.4-.4-.92-.59-1.43-.59-.52 0-1.04.2-1.43.59L10.3 9.45l-7.72 7.72c-.78.78-.78 2.05 0 2.83L4 21.41c.39.39.9.59 1.41.59.51 0 1.02-.2 1.41-.59l7.78-7.78 2.81-2.81c.8-.78.8-2.07 0-2.86zM5.41 20L4 18.59l7.72-7.72 1.47 1.35L5.41 20z\"/>\n",
              "  </svg>\n",
              "      </button>\n",
              "      \n",
              "  <style>\n",
              "    .colab-df-container {\n",
              "      display:flex;\n",
              "      flex-wrap:wrap;\n",
              "      gap: 12px;\n",
              "    }\n",
              "\n",
              "    .colab-df-convert {\n",
              "      background-color: #E8F0FE;\n",
              "      border: none;\n",
              "      border-radius: 50%;\n",
              "      cursor: pointer;\n",
              "      display: none;\n",
              "      fill: #1967D2;\n",
              "      height: 32px;\n",
              "      padding: 0 0 0 0;\n",
              "      width: 32px;\n",
              "    }\n",
              "\n",
              "    .colab-df-convert:hover {\n",
              "      background-color: #E2EBFA;\n",
              "      box-shadow: 0px 1px 2px rgba(60, 64, 67, 0.3), 0px 1px 3px 1px rgba(60, 64, 67, 0.15);\n",
              "      fill: #174EA6;\n",
              "    }\n",
              "\n",
              "    [theme=dark] .colab-df-convert {\n",
              "      background-color: #3B4455;\n",
              "      fill: #D2E3FC;\n",
              "    }\n",
              "\n",
              "    [theme=dark] .colab-df-convert:hover {\n",
              "      background-color: #434B5C;\n",
              "      box-shadow: 0px 1px 3px 1px rgba(0, 0, 0, 0.15);\n",
              "      filter: drop-shadow(0px 1px 2px rgba(0, 0, 0, 0.3));\n",
              "      fill: #FFFFFF;\n",
              "    }\n",
              "  </style>\n",
              "\n",
              "      <script>\n",
              "        const buttonEl =\n",
              "          document.querySelector('#df-0ca7c03a-9ba7-4462-909f-b157f3a20b26 button.colab-df-convert');\n",
              "        buttonEl.style.display =\n",
              "          google.colab.kernel.accessAllowed ? 'block' : 'none';\n",
              "\n",
              "        async function convertToInteractive(key) {\n",
              "          const element = document.querySelector('#df-0ca7c03a-9ba7-4462-909f-b157f3a20b26');\n",
              "          const dataTable =\n",
              "            await google.colab.kernel.invokeFunction('convertToInteractive',\n",
              "                                                     [key], {});\n",
              "          if (!dataTable) return;\n",
              "\n",
              "          const docLinkHtml = 'Like what you see? Visit the ' +\n",
              "            '<a target=\"_blank\" href=https://colab.research.google.com/notebooks/data_table.ipynb>data table notebook</a>'\n",
              "            + ' to learn more about interactive tables.';\n",
              "          element.innerHTML = '';\n",
              "          dataTable['output_type'] = 'display_data';\n",
              "          await google.colab.output.renderOutput(dataTable, element);\n",
              "          const docLink = document.createElement('div');\n",
              "          docLink.innerHTML = docLinkHtml;\n",
              "          element.appendChild(docLink);\n",
              "        }\n",
              "      </script>\n",
              "    </div>\n",
              "  </div>\n",
              "  "
            ]
          },
          "metadata": {},
          "execution_count": 131
        }
      ]
    },
    {
      "cell_type": "code",
      "source": [
        "df.shape"
      ],
      "metadata": {
        "colab": {
          "base_uri": "https://localhost:8080/"
        },
        "id": "QJDZF90aWJF4",
        "outputId": "d1ab01a2-034a-432d-cb3a-413a84741abc"
      },
      "execution_count": 132,
      "outputs": [
        {
          "output_type": "execute_result",
          "data": {
            "text/plain": [
              "(5572, 2)"
            ]
          },
          "metadata": {},
          "execution_count": 132
        }
      ]
    },
    {
      "cell_type": "markdown",
      "source": [
        "#### Text PreProcessing:\n",
        "we are going to perform below steps to clean the text so that the model can be trained.\n",
        "1) Tokenization:\n",
        "that is to extract words from sentences\n",
        "\n",
        "2) StopWords:\n",
        "that is to remove those words which don't hold much of a meaning like 'is', 'or', 'they' etc\n",
        "\n",
        "3) Stemming/Lemmatization:\n",
        "that is to reduce words into their base/root words so we can have less number of unique words and the dimension can be reduced.\n",
        "\n",
        "4) Word2Vec:\n",
        "\n",
        "that is to convert words into vectors either by using a pretrained model or training/creating a model from scratch."
      ],
      "metadata": {
        "id": "y2tN5ILcWiA6"
      }
    },
    {
      "cell_type": "code",
      "source": [
        "# importing dependencies for text preprocessing\n",
        "import nltk\n",
        "from nltk.stem import WordNetLemmatizer\n",
        "from nltk.corpus import stopwords\n",
        "import re\n",
        "nltk.download('stopwords')\n",
        "nltk.download('wordnet')\n",
        "nltk.download('omw-1.4')\n"
      ],
      "metadata": {
        "colab": {
          "base_uri": "https://localhost:8080/"
        },
        "id": "EFaW8xDgWVkH",
        "outputId": "102abf11-6af1-4ba4-fadb-ca0f332c8c3a"
      },
      "execution_count": 133,
      "outputs": [
        {
          "output_type": "stream",
          "name": "stderr",
          "text": [
            "[nltk_data] Downloading package stopwords to /root/nltk_data...\n",
            "[nltk_data]   Package stopwords is already up-to-date!\n",
            "[nltk_data] Downloading package wordnet to /root/nltk_data...\n",
            "[nltk_data]   Package wordnet is already up-to-date!\n",
            "[nltk_data] Downloading package omw-1.4 to /root/nltk_data...\n",
            "[nltk_data]   Package omw-1.4 is already up-to-date!\n"
          ]
        },
        {
          "output_type": "execute_result",
          "data": {
            "text/plain": [
              "True"
            ]
          },
          "metadata": {},
          "execution_count": 133
        }
      ]
    },
    {
      "cell_type": "code",
      "source": [
        "lemmatizer=WordNetLemmatizer()"
      ],
      "metadata": {
        "id": "8B2vk6ACoQIF"
      },
      "execution_count": 134,
      "outputs": []
    },
    {
      "cell_type": "code",
      "source": [
        "corpus=[]\n",
        "for i in range(len(df)):\n",
        "  review=re.sub('[^a-zA-Z]',' ',df['message'][i])\n",
        "  review=review.lower()\n",
        "  review=review.split()\n",
        "\n",
        "  review=[lemmatizer.lemmatize(words) for words in review if not words in stopwords.words('english')]\n",
        "  review=' '.join(review)\n",
        "  corpus.append(review)\n"
      ],
      "metadata": {
        "id": "i5CHxcLxnY2k"
      },
      "execution_count": 135,
      "outputs": []
    },
    {
      "cell_type": "code",
      "source": [
        "print(len(corpus))\n",
        "print(corpus[0:2])"
      ],
      "metadata": {
        "colab": {
          "base_uri": "https://localhost:8080/"
        },
        "id": "zSc1cbebisQ2",
        "outputId": "0bd4e55c-a7d0-4003-9a23-c7caa958cec6"
      },
      "execution_count": 136,
      "outputs": [
        {
          "output_type": "stream",
          "name": "stdout",
          "text": [
            "5572\n",
            "['go jurong point crazy available bugis n great world la e buffet cine got amore wat', 'ok lar joking wif u oni']\n"
          ]
        }
      ]
    },
    {
      "cell_type": "markdown",
      "source": [
        "\n",
        "before and after text preprocessing, there are 8 records misssing.\n",
        "those records have been found in the below cell and they are missing due to the characters in the sentence other than a-z and A-Z characters."
      ],
      "metadata": {
        "id": "lIW1iAuUx1eg"
      }
    },
    {
      "cell_type": "code",
      "source": [
        "# 8 sentences which have been replaced with white space. \n",
        "[[i,j,k] for i,j,k in zip(map(len,corpus),corpus,df['message']) if i<1]"
      ],
      "metadata": {
        "colab": {
          "base_uri": "https://localhost:8080/"
        },
        "id": "wkh6OeWujQqr",
        "outputId": "29111764-01f8-4819-83c9-53ff6986b7b0"
      },
      "execution_count": 137,
      "outputs": [
        {
          "output_type": "execute_result",
          "data": {
            "text/plain": [
              "[[0, '', 'What you doing?how are you?'],\n",
              " [0, '', 'Where @'],\n",
              " [0, '', '645'],\n",
              " [0, '', 'Can a not?'],\n",
              " [0, '', ':) '],\n",
              " [0, '', 'What you doing?how are you?'],\n",
              " [0, '', ':( but your not here....'],\n",
              " [0, '', ':-) :-)']]"
            ]
          },
          "metadata": {},
          "execution_count": 137
        }
      ]
    },
    {
      "cell_type": "code",
      "source": [
        "# Alternative way to preprocess the text:\n",
        "from nltk import sent_tokenize\n",
        "from gensim.utils import simple_preprocess\n",
        "nltk.download('punkt')"
      ],
      "metadata": {
        "colab": {
          "base_uri": "https://localhost:8080/"
        },
        "id": "fV_mg51Ope4m",
        "outputId": "a7512fd4-3a0d-4777-c93b-2d7447ac5b76"
      },
      "execution_count": 138,
      "outputs": [
        {
          "output_type": "stream",
          "name": "stderr",
          "text": [
            "[nltk_data] Downloading package punkt to /root/nltk_data...\n",
            "[nltk_data]   Package punkt is already up-to-date!\n"
          ]
        },
        {
          "output_type": "execute_result",
          "data": {
            "text/plain": [
              "True"
            ]
          },
          "metadata": {},
          "execution_count": 138
        }
      ]
    },
    {
      "cell_type": "code",
      "source": [
        "words=[]\n",
        "for sentences in corpus:\n",
        "  sentences_token=sent_tokenize(sentences) # tokenzing the sentences\n",
        "  for word in sentences_token:\n",
        "    lower_sent=simple_preprocess(word) #lowering the words\n",
        "    words.append(lower_sent)\n"
      ],
      "metadata": {
        "id": "IZgOZmkFqL90"
      },
      "execution_count": 139,
      "outputs": []
    },
    {
      "cell_type": "code",
      "source": [
        "\"\"\"\n",
        "sent=[]\n",
        "for i in corpus:\n",
        "  #print(i)\n",
        "  splitting=i.split(' ')\n",
        "  sent.append(splitting)\n",
        "print(sent)\n",
        "\n",
        "\"\"\"\n"
      ],
      "metadata": {
        "colab": {
          "base_uri": "https://localhost:8080/",
          "height": 53
        },
        "id": "tdjajPQ4wEw2",
        "outputId": "c8b95b60-af2c-4fdc-e436-f598b5375b86"
      },
      "execution_count": 140,
      "outputs": [
        {
          "output_type": "execute_result",
          "data": {
            "text/plain": [
              "\"\\nsent=[]\\nfor i in corpus:\\n  #print(i)\\n  splitting=i.split(' ')\\n  sent.append(splitting)\\nprint(sent)\\n\\n\""
            ],
            "application/vnd.google.colaboratory.intrinsic+json": {
              "type": "string"
            }
          },
          "metadata": {},
          "execution_count": 140
        }
      ]
    },
    {
      "cell_type": "markdown",
      "source": [
        "#### Word to Vector Conversion\n",
        "\n",
        "let's train the word2vec model from scratch.\n"
      ],
      "metadata": {
        "id": "wiM6kksEpUFa"
      }
    },
    {
      "cell_type": "code",
      "source": [
        "import gensim"
      ],
      "metadata": {
        "id": "IrcYI7votiAa"
      },
      "execution_count": 141,
      "outputs": []
    },
    {
      "cell_type": "code",
      "source": [
        "model=gensim.models.Word2Vec(words,size=100)"
      ],
      "metadata": {
        "colab": {
          "base_uri": "https://localhost:8080/"
        },
        "id": "JqwrAEZ0tiHw",
        "outputId": "febbb6b4-3de8-46f8-dfb9-e5d6c48c3407"
      },
      "execution_count": 142,
      "outputs": [
        {
          "output_type": "stream",
          "name": "stderr",
          "text": [
            "WARNING:gensim.models.base_any2vec:under 10 jobs per worker: consider setting a smaller `batch_words' for smoother alpha decay\n"
          ]
        }
      ]
    },
    {
      "cell_type": "code",
      "source": [
        "model.epochs"
      ],
      "metadata": {
        "colab": {
          "base_uri": "https://localhost:8080/"
        },
        "id": "idjLpP7ApQs4",
        "outputId": "3f977023-bfd2-40d5-a9f8-f7e7bcdfe7de"
      },
      "execution_count": 143,
      "outputs": [
        {
          "output_type": "execute_result",
          "data": {
            "text/plain": [
              "5"
            ]
          },
          "metadata": {},
          "execution_count": 143
        }
      ]
    },
    {
      "cell_type": "code",
      "source": [
        "model.wv['good'].shape"
      ],
      "metadata": {
        "colab": {
          "base_uri": "https://localhost:8080/"
        },
        "id": "S_IToFP-vDzR",
        "outputId": "080bf829-85e3-49fe-c79f-e6480b41ccbd"
      },
      "execution_count": 144,
      "outputs": [
        {
          "output_type": "execute_result",
          "data": {
            "text/plain": [
              "(100,)"
            ]
          },
          "metadata": {},
          "execution_count": 144
        }
      ]
    },
    {
      "cell_type": "markdown",
      "source": [
        "#### Word2Vec vs AvgWord2Vec:\n",
        "every word gets converted into vectors with 100 dimensions if we use the model which we have trained just now. it means if you have 10 words in a sentence then all of the words will be converted into vectors with 100 dimensions.\n",
        "\n",
        "In avgword2vec, we take the avg value of each dimension of all the words in a sentence and then take the avg value. that way we have only one vector for the whole sentence with 100 dimensions. it is computionally more effecient"
      ],
      "metadata": {
        "id": "SJKDSyeb4d7g"
      }
    },
    {
      "cell_type": "code",
      "source": [
        "def avg_word2vec(doc):\n",
        "\n",
        "    vocab=model.wv.vocab.keys()\n",
        "    return np.mean([model.wv[word] for word in doc if word in vocab],axis=0)\n",
        "                "
      ],
      "metadata": {
        "id": "_h6hj3hrDoxb"
      },
      "execution_count": 145,
      "outputs": []
    },
    {
      "cell_type": "code",
      "source": [
        "!pip install tqdm"
      ],
      "metadata": {
        "colab": {
          "base_uri": "https://localhost:8080/"
        },
        "id": "1A3kXP_CAWUi",
        "outputId": "3455c0a9-d489-4e9d-92f9-487b3971c421"
      },
      "execution_count": 146,
      "outputs": [
        {
          "output_type": "stream",
          "name": "stdout",
          "text": [
            "Looking in indexes: https://pypi.org/simple, https://us-python.pkg.dev/colab-wheels/public/simple/\n",
            "Requirement already satisfied: tqdm in /usr/local/lib/python3.8/dist-packages (4.64.1)\n"
          ]
        }
      ]
    },
    {
      "cell_type": "code",
      "source": [
        "from tqdm import tqdm # to track the progress"
      ],
      "metadata": {
        "id": "qYQ3g3TbvjDo"
      },
      "execution_count": 147,
      "outputs": []
    },
    {
      "cell_type": "code",
      "source": [
        "avg_word2vec(words[0]).shape # it is converting a sentence into a vector by taking avg values"
      ],
      "metadata": {
        "colab": {
          "base_uri": "https://localhost:8080/"
        },
        "id": "jQXQLtrZCoQF",
        "outputId": "d0664bbb-b99e-4f67-da8d-d3b48b0d5fbc"
      },
      "execution_count": 148,
      "outputs": [
        {
          "output_type": "execute_result",
          "data": {
            "text/plain": [
              "(100,)"
            ]
          },
          "metadata": {},
          "execution_count": 148
        }
      ]
    },
    {
      "cell_type": "code",
      "source": [
        "words[0]"
      ],
      "metadata": {
        "colab": {
          "base_uri": "https://localhost:8080/"
        },
        "id": "6yveFnBQEwqO",
        "outputId": "d13bb8cc-9472-425f-cb64-4ffaec147b7d"
      },
      "execution_count": 149,
      "outputs": [
        {
          "output_type": "execute_result",
          "data": {
            "text/plain": [
              "['go',\n",
              " 'jurong',\n",
              " 'point',\n",
              " 'crazy',\n",
              " 'available',\n",
              " 'bugis',\n",
              " 'great',\n",
              " 'world',\n",
              " 'la',\n",
              " 'buffet',\n",
              " 'cine',\n",
              " 'got',\n",
              " 'amore',\n",
              " 'wat']"
            ]
          },
          "metadata": {},
          "execution_count": 149
        }
      ]
    },
    {
      "cell_type": "code",
      "source": [
        "# apply avgword2vec to every sentence:\n",
        "X=[]\n",
        "for i in tqdm(range(len(words))):\n",
        "  X.append(avg_word2vec(words[i]))\n",
        "\n"
      ],
      "metadata": {
        "colab": {
          "base_uri": "https://localhost:8080/"
        },
        "id": "PxaEDSMzvuZZ",
        "outputId": "da067ba5-06b3-45db-acab-99db0898a8c7"
      },
      "execution_count": 150,
      "outputs": [
        {
          "output_type": "stream",
          "name": "stderr",
          "text": [
            "  0%|          | 0/5564 [00:00<?, ?it/s]/usr/local/lib/python3.8/dist-packages/numpy/core/fromnumeric.py:3474: RuntimeWarning: Mean of empty slice.\n",
            "  return _methods._mean(a, axis=axis, dtype=dtype,\n",
            "/usr/local/lib/python3.8/dist-packages/numpy/core/_methods.py:189: RuntimeWarning: invalid value encountered in double_scalars\n",
            "  ret = ret.dtype.type(ret / rcount)\n",
            "100%|██████████| 5564/5564 [00:00<00:00, 9262.97it/s]\n"
          ]
        }
      ]
    },
    {
      "cell_type": "code",
      "source": [
        "len(X)"
      ],
      "metadata": {
        "colab": {
          "base_uri": "https://localhost:8080/"
        },
        "id": "G-ETr_GKCFgB",
        "outputId": "9ed3331d-60ca-40ef-a755-ed800933b01c"
      },
      "execution_count": 151,
      "outputs": [
        {
          "output_type": "execute_result",
          "data": {
            "text/plain": [
              "5564"
            ]
          },
          "metadata": {},
          "execution_count": 151
        }
      ]
    },
    {
      "cell_type": "code",
      "source": [
        "# converting the list into arrays\n",
        "X_new=np.array(X)"
      ],
      "metadata": {
        "colab": {
          "base_uri": "https://localhost:8080/"
        },
        "id": "_CoVl2RUFf1m",
        "outputId": "c3976156-0341-41a0-aa7c-6e381657ec00"
      },
      "execution_count": 152,
      "outputs": [
        {
          "output_type": "stream",
          "name": "stderr",
          "text": [
            "<ipython-input-152-e9da52592852>:2: VisibleDeprecationWarning: Creating an ndarray from ragged nested sequences (which is a list-or-tuple of lists-or-tuples-or ndarrays with different lengths or shapes) is deprecated. If you meant to do this, you must specify 'dtype=object' when creating the ndarray.\n",
            "  X_new=np.array(X)\n"
          ]
        }
      ]
    },
    {
      "cell_type": "code",
      "source": [
        "X_new"
      ],
      "metadata": {
        "colab": {
          "base_uri": "https://localhost:8080/"
        },
        "id": "T3iQng8mawHN",
        "outputId": "f5e1341d-549c-4dce-f386-e2ae0a192114"
      },
      "execution_count": 153,
      "outputs": [
        {
          "output_type": "execute_result",
          "data": {
            "text/plain": [
              "array([array([ 0.1546087 , -0.14088577,  0.17547633, -0.35944661, -0.01137265,\n",
              "               0.33409747,  0.25645402,  0.08449929,  0.05000579,  0.09256528,\n",
              "              -0.2762603 ,  0.10092197, -0.38037717,  0.04303493,  0.01650086,\n",
              "               0.00516385,  0.10958337, -0.22792922, -0.01705717,  0.01475398,\n",
              "               0.07394274, -0.26079592,  0.5097234 , -0.18557414, -0.24847946,\n",
              "              -0.38059634,  0.18595581, -0.14688142, -0.02537193, -0.2804627 ,\n",
              "               0.33316672,  0.04540907,  0.3477824 ,  0.00393646,  0.22351123,\n",
              "              -0.18171024, -0.24479757, -0.09076348, -0.05686321, -0.20773746,\n",
              "              -0.24526219,  0.1893187 ,  0.17749065,  0.04909588,  0.12174215,\n",
              "               0.3230932 ,  0.13673571,  0.23983826, -0.1218561 ,  0.05355744,\n",
              "              -0.04939915,  0.13673426,  0.04475321, -0.10286453, -0.07896338,\n",
              "               0.24872617,  0.2180737 , -0.01450358, -0.16486555, -0.2397254 ,\n",
              "              -0.23084283,  0.13880688, -0.02583972,  0.10321329, -0.2266865 ,\n",
              "              -0.24000959, -0.13631266, -0.25968912,  0.0498648 ,  0.12237993,\n",
              "              -0.15664525, -0.18177679, -0.1125001 ,  0.23751087, -0.31638092,\n",
              "               0.11009181, -0.3099601 , -0.078958  ,  0.3065753 ,  0.17921084,\n",
              "              -0.17551084, -0.12187023, -0.1008903 ,  0.00063793, -0.17492889,\n",
              "               0.12036755, -0.08825061,  0.0202239 ,  0.04919875, -0.22686549,\n",
              "              -0.16842262,  0.00567044, -0.06483879, -0.24521182,  0.04438239,\n",
              "               0.03041934,  0.16787127, -0.16936427,  0.3192713 , -0.10299096],\n",
              "             dtype=float32)                                                    ,\n",
              "       array([ 0.12597813, -0.11958045,  0.14282978, -0.2954296 , -0.01068672,\n",
              "               0.27226374,  0.21252376,  0.06871851,  0.03976507,  0.07635899,\n",
              "              -0.22744392,  0.08491557, -0.3136325 ,  0.03331271,  0.01235504,\n",
              "               0.00124835,  0.0874541 , -0.19004327, -0.01359662,  0.01125998,\n",
              "               0.0605371 , -0.21703993,  0.4190836 , -0.15330727, -0.20720962,\n",
              "              -0.31631663,  0.15114717, -0.1221033 , -0.01963732, -0.23064509,\n",
              "               0.27492347,  0.03761275,  0.28966174,  0.00180674,  0.18278256,\n",
              "              -0.14565587, -0.19989023, -0.07613398, -0.04813269, -0.1714254 ,\n",
              "              -0.20505477,  0.15526307,  0.14579798,  0.04107479,  0.09806061,\n",
              "               0.2658729 ,  0.11358254,  0.2007672 , -0.09994061,  0.04413006,\n",
              "              -0.04160362,  0.11197251,  0.03731222, -0.0866037 , -0.06429926,\n",
              "               0.2069163 ,  0.1818618 , -0.01191883, -0.13461074, -0.19765617,\n",
              "              -0.18827747,  0.1169892 , -0.02302609,  0.08532887, -0.18620543,\n",
              "              -0.1984264 , -0.10865732, -0.21316695,  0.03968208,  0.09814827,\n",
              "              -0.12614425, -0.14478391, -0.09374497,  0.19559221, -0.25931597,\n",
              "               0.08936869, -0.2538037 , -0.06675506,  0.25171918,  0.14970182,\n",
              "              -0.14478043, -0.10072295, -0.08195286, -0.00043412, -0.14376344,\n",
              "               0.10066121, -0.07456129,  0.01538364,  0.03753019, -0.18634152,\n",
              "              -0.1401522 ,  0.00389899, -0.05851357, -0.20057252,  0.03365802,\n",
              "               0.02825812,  0.13897109, -0.13966535,  0.2636482 , -0.08225602],\n",
              "             dtype=float32)                                                    ,\n",
              "       array([ 0.16208623, -0.1422424 ,  0.17665467, -0.37091362, -0.00927265,\n",
              "               0.34410998,  0.26265052,  0.08739208,  0.04864082,  0.09346237,\n",
              "              -0.28968066,  0.10613663, -0.39533943,  0.04132351,  0.02030299,\n",
              "               0.0067308 ,  0.11441132, -0.2356145 , -0.02124817,  0.01911621,\n",
              "               0.07877389, -0.2720052 ,  0.52458936, -0.18726724, -0.25598773,\n",
              "              -0.3922982 ,  0.1963832 , -0.15153123, -0.02443048, -0.28800592,\n",
              "               0.34586704,  0.04749397,  0.35825065,  0.0044265 ,  0.23118103,\n",
              "              -0.18512662, -0.2522855 , -0.09356455, -0.06070831, -0.2114526 ,\n",
              "              -0.25457522,  0.19709131,  0.18200375,  0.04912145,  0.12488521,\n",
              "               0.33652997,  0.13853396,  0.2508905 , -0.12269734,  0.0577104 ,\n",
              "              -0.04962714,  0.14381921,  0.04384923, -0.10447505, -0.08158636,\n",
              "               0.25937787,  0.2286987 , -0.01703742, -0.17060074, -0.24579725,\n",
              "              -0.24334821,  0.14183356, -0.02905336,  0.10976962, -0.23613848,\n",
              "              -0.25134072, -0.1374914 , -0.26824376,  0.04728666,  0.12287054,\n",
              "              -0.15778196, -0.18515307, -0.1171193 ,  0.24808572, -0.32759693,\n",
              "               0.11469994, -0.32051143, -0.08639838,  0.31983396,  0.1874205 ,\n",
              "              -0.18564093, -0.12558526, -0.10441969,  0.00105989, -0.17936933,\n",
              "               0.12607263, -0.09295257,  0.02481768,  0.04951291, -0.23497847,\n",
              "              -0.17309493,  0.00725312, -0.06870043, -0.25343597,  0.04686793,\n",
              "               0.03280855,  0.17460437, -0.17476285,  0.3303441 , -0.10640327],\n",
              "             dtype=float32)                                                    ,\n",
              "       ...,\n",
              "       array([ 6.67813346e-02, -5.69005236e-02,  7.20285401e-02, -1.45243004e-01,\n",
              "              -9.48492438e-03,  1.34941399e-01,  1.05480105e-01,  3.63979824e-02,\n",
              "               1.61397718e-02,  4.17848267e-02, -1.15671791e-01,  4.20491770e-02,\n",
              "              -1.62592083e-01,  1.96480602e-02,  4.86096041e-03,  8.83186702e-04,\n",
              "               4.68781777e-02, -9.53657106e-02, -1.19046913e-02,  9.81862936e-03,\n",
              "               3.13392617e-02, -1.04315408e-01,  2.10921988e-01, -7.34214485e-02,\n",
              "              -9.92905870e-02, -1.58867657e-01,  8.18082914e-02, -6.01173528e-02,\n",
              "              -1.33540183e-02, -1.20754324e-01,  1.37962744e-01,  1.95521116e-02,\n",
              "               1.46577075e-01,  2.93086888e-03,  9.35427994e-02, -7.96551108e-02,\n",
              "              -1.04630649e-01, -3.92463133e-02, -2.60340348e-02, -8.16349909e-02,\n",
              "              -1.06629826e-01,  7.77860209e-02,  7.85910413e-02,  1.73972398e-02,\n",
              "               4.85426113e-02,  1.37100413e-01,  6.10905625e-02,  1.04842491e-01,\n",
              "              -5.46922162e-02,  2.46164314e-02, -1.85601152e-02,  6.21129423e-02,\n",
              "               2.29294170e-02, -3.79839465e-02, -3.27516831e-02,  1.05453782e-01,\n",
              "               9.16004777e-02, -5.29177720e-03, -6.64393827e-02, -1.00739926e-01,\n",
              "              -9.86815616e-02,  5.96016273e-02, -8.19633342e-03,  4.51109149e-02,\n",
              "              -9.71227735e-02, -1.01223446e-01, -5.73257096e-02, -1.05500340e-01,\n",
              "               2.23157089e-02,  5.45750819e-02, -6.72484189e-02, -7.43804574e-02,\n",
              "              -4.42366898e-02,  1.02065019e-01, -1.27464652e-01,  4.19071317e-02,\n",
              "              -1.25723764e-01, -3.63755226e-02,  1.25399113e-01,  7.99232498e-02,\n",
              "              -7.79162869e-02, -5.31219766e-02, -4.66430709e-02, -3.53031326e-03,\n",
              "              -7.37703368e-02,  5.12553155e-02, -3.72924916e-02,  5.84469829e-03,\n",
              "               1.50033757e-02, -9.19669718e-02, -7.39644021e-02, -1.20083932e-04,\n",
              "              -2.88495254e-02, -9.92518067e-02,  1.73036736e-02,  1.09322174e-02,\n",
              "               7.40152895e-02, -7.37668946e-02,  1.36321262e-01, -4.62628044e-02],\n",
              "             dtype=float32)                                                       ,\n",
              "       array([ 0.17468154, -0.15667383,  0.19298452, -0.40178996, -0.01067476,\n",
              "               0.37155455,  0.28432018,  0.0941637 ,  0.05235802,  0.10295175,\n",
              "              -0.31161952,  0.11552857, -0.4269426 ,  0.04472259,  0.0203606 ,\n",
              "               0.00644378,  0.12159558, -0.25409126, -0.02200807,  0.01412124,\n",
              "               0.08301094, -0.29193565,  0.5692326 , -0.20358756, -0.27517086,\n",
              "              -0.42438847,  0.20885608, -0.16446811, -0.02691264, -0.31309047,\n",
              "               0.37343687,  0.05205976,  0.38648123,  0.00582683,  0.24784596,\n",
              "              -0.20057964, -0.27384216, -0.10122172, -0.06673623, -0.23108847,\n",
              "              -0.27568686,  0.21317331,  0.19897768,  0.05230734,  0.135971  ,\n",
              "               0.36307523,  0.15198289,  0.2669886 , -0.13426787,  0.05948818,\n",
              "              -0.05318912,  0.15469262,  0.04899991, -0.11370387, -0.08959251,\n",
              "               0.2800445 ,  0.24531348, -0.01776901, -0.18507734, -0.264105  ,\n",
              "              -0.26056454,  0.15508251, -0.03000927,  0.1174369 , -0.25618893,\n",
              "              -0.2697647 , -0.14988804, -0.29028493,  0.054175  ,  0.13468209,\n",
              "              -0.17433037, -0.20279928, -0.12710029,  0.26935804, -0.35259944,\n",
              "               0.12396079, -0.3466545 , -0.09119405,  0.34436908,  0.20220979,\n",
              "              -0.19839309, -0.13584317, -0.11122891,  0.00191688, -0.19465896,\n",
              "               0.1351349 , -0.10095791,  0.02574567,  0.0541415 , -0.25382024,\n",
              "              -0.18825784,  0.00884307, -0.07267791, -0.27297965,  0.05075642,\n",
              "               0.03417575,  0.18886445, -0.18779926,  0.3565606 , -0.11314605],\n",
              "             dtype=float32)                                                    ,\n",
              "       array([ 0.17371571, -0.15488195,  0.18679422, -0.3930375 , -0.01414528,\n",
              "               0.36750695,  0.27386287,  0.09179355,  0.05566208,  0.09952565,\n",
              "              -0.3047839 ,  0.11001247, -0.4193746 ,  0.04307027,  0.02243117,\n",
              "               0.00265287,  0.11794314, -0.25279817, -0.02332763,  0.01958697,\n",
              "               0.08126628, -0.2836101 ,  0.5557168 , -0.19905947, -0.2725441 ,\n",
              "              -0.417188  ,  0.2023291 , -0.1596044 , -0.02521089, -0.30708015,\n",
              "               0.36771646,  0.05157099,  0.3797245 ,  0.00535316,  0.24409547,\n",
              "              -0.1978358 , -0.26684162, -0.10021519, -0.06134058, -0.22842026,\n",
              "              -0.26992583,  0.21200156,  0.19694832,  0.05070189,  0.13059327,\n",
              "               0.35793555,  0.15286857,  0.2623523 , -0.13452922,  0.06036858,\n",
              "              -0.05285727,  0.1559499 ,  0.04785872, -0.10974777, -0.08872728,\n",
              "               0.27255312,  0.24275373, -0.01608196, -0.18219712, -0.25718987,\n",
              "              -0.25729138,  0.15320824, -0.03369145,  0.11694323, -0.24595354,\n",
              "              -0.2620061 , -0.14433664, -0.28442305,  0.05689932,  0.13064498,\n",
              "              -0.1704795 , -0.19728109, -0.12689091,  0.2608968 , -0.35118774,\n",
              "               0.1200591 , -0.345051  , -0.09367159,  0.33681315,  0.19475508,\n",
              "              -0.19258004, -0.13693514, -0.10835579, -0.00185787, -0.19137248,\n",
              "               0.13230848, -0.10087868,  0.02881576,  0.05094818, -0.25172296,\n",
              "              -0.1863408 ,  0.00401703, -0.07010783, -0.2694115 ,  0.04523312,\n",
              "               0.03399363,  0.18669876, -0.18731052,  0.35018086, -0.11162042],\n",
              "             dtype=float32)                                                    ],\n",
              "      dtype=object)"
            ]
          },
          "metadata": {},
          "execution_count": 153
        }
      ]
    },
    {
      "cell_type": "code",
      "source": [
        "# Test\n",
        "sum=lambda x,y:x+y\n"
      ],
      "metadata": {
        "id": "8WpB3hbi3xOR"
      },
      "execution_count": 154,
      "outputs": []
    },
    {
      "cell_type": "code",
      "source": [
        "sum(1,2)"
      ],
      "metadata": {
        "colab": {
          "base_uri": "https://localhost:8080/"
        },
        "id": "_Jcknj4532G2",
        "outputId": "b10bcbe4-8b8b-432a-e858-206191a1e3a2"
      },
      "execution_count": 155,
      "outputs": [
        {
          "output_type": "execute_result",
          "data": {
            "text/plain": [
              "3"
            ]
          },
          "metadata": {},
          "execution_count": 155
        }
      ]
    },
    {
      "cell_type": "code",
      "source": [
        "# Dependent Feature:\n",
        "def length(x):\n",
        "  if len(x)>0:\n",
        "    return x\n",
        "\n",
        "\n",
        "y=df[list(map(lambda x:len(x)>0,corpus))]\n",
        "y=pd.get_dummies(y['label'],drop_first=True)\n",
        "y=y.iloc[:,0].values\n",
        "y"
      ],
      "metadata": {
        "colab": {
          "base_uri": "https://localhost:8080/"
        },
        "id": "nKO7wwmiaxc4",
        "outputId": "e66c03ed-ed26-4884-e360-29cbee4c2739"
      },
      "execution_count": 156,
      "outputs": [
        {
          "output_type": "execute_result",
          "data": {
            "text/plain": [
              "array([0, 0, 1, ..., 0, 0, 0], dtype=uint8)"
            ]
          },
          "metadata": {},
          "execution_count": 156
        }
      ]
    },
    {
      "cell_type": "code",
      "source": [
        "#printing the shape of dependent and independent features\n",
        "print(X_new.shape)# independent feature\n",
        "print(y.shape)#dependent feature"
      ],
      "metadata": {
        "colab": {
          "base_uri": "https://localhost:8080/"
        },
        "id": "NpiR8E6ZeG2O",
        "outputId": "1a0a02bb-289a-478a-86ba-07baee885f75"
      },
      "execution_count": 157,
      "outputs": [
        {
          "output_type": "stream",
          "name": "stdout",
          "text": [
            "(5564,)\n",
            "(5564,)\n"
          ]
        }
      ]
    },
    {
      "cell_type": "markdown",
      "source": [
        "#### Analysis:\n",
        "upon checking the shape of independent and dependent features, 8 records have been removed from the independent feature.\n",
        "The reasons of missing 8 records in the independent feature is that some of the sentences have been replaced with a white space due to the condition in preprocessing and hence they couldn't be converted into vectors. therefore, they have been removed from the independent variable."
      ],
      "metadata": {
        "id": "eOqHej5nhpfM"
      }
    },
    {
      "cell_type": "code",
      "source": [
        "X[0]"
      ],
      "metadata": {
        "colab": {
          "base_uri": "https://localhost:8080/"
        },
        "id": "Zd6saH5ShpF3",
        "outputId": "88c71ff6-6759-4751-af08-0aa3263cc2be"
      },
      "execution_count": 158,
      "outputs": [
        {
          "output_type": "execute_result",
          "data": {
            "text/plain": [
              "array([ 0.1546087 , -0.14088577,  0.17547633, -0.35944661, -0.01137265,\n",
              "        0.33409747,  0.25645402,  0.08449929,  0.05000579,  0.09256528,\n",
              "       -0.2762603 ,  0.10092197, -0.38037717,  0.04303493,  0.01650086,\n",
              "        0.00516385,  0.10958337, -0.22792922, -0.01705717,  0.01475398,\n",
              "        0.07394274, -0.26079592,  0.5097234 , -0.18557414, -0.24847946,\n",
              "       -0.38059634,  0.18595581, -0.14688142, -0.02537193, -0.2804627 ,\n",
              "        0.33316672,  0.04540907,  0.3477824 ,  0.00393646,  0.22351123,\n",
              "       -0.18171024, -0.24479757, -0.09076348, -0.05686321, -0.20773746,\n",
              "       -0.24526219,  0.1893187 ,  0.17749065,  0.04909588,  0.12174215,\n",
              "        0.3230932 ,  0.13673571,  0.23983826, -0.1218561 ,  0.05355744,\n",
              "       -0.04939915,  0.13673426,  0.04475321, -0.10286453, -0.07896338,\n",
              "        0.24872617,  0.2180737 , -0.01450358, -0.16486555, -0.2397254 ,\n",
              "       -0.23084283,  0.13880688, -0.02583972,  0.10321329, -0.2266865 ,\n",
              "       -0.24000959, -0.13631266, -0.25968912,  0.0498648 ,  0.12237993,\n",
              "       -0.15664525, -0.18177679, -0.1125001 ,  0.23751087, -0.31638092,\n",
              "        0.11009181, -0.3099601 , -0.078958  ,  0.3065753 ,  0.17921084,\n",
              "       -0.17551084, -0.12187023, -0.1008903 ,  0.00063793, -0.17492889,\n",
              "        0.12036755, -0.08825061,  0.0202239 ,  0.04919875, -0.22686549,\n",
              "       -0.16842262,  0.00567044, -0.06483879, -0.24521182,  0.04438239,\n",
              "        0.03041934,  0.16787127, -0.16936427,  0.3192713 , -0.10299096],\n",
              "      dtype=float32)"
            ]
          },
          "metadata": {},
          "execution_count": 158
        }
      ]
    },
    {
      "cell_type": "code",
      "source": [
        "#X_new[0].reshape(1,-1).shape # converting it into 2d array"
      ],
      "metadata": {
        "id": "G6AJYBJ0865O"
      },
      "execution_count": 120,
      "outputs": []
    },
    {
      "cell_type": "code",
      "source": [
        "# Final independent features\n",
        "# converting 1d array into 2d dataframe\n",
        "df_new=pd.DataFrame()\n",
        "for i in range(0,len(X)):\n",
        "  df_new=df_new.append(pd.DataFrame(X[i].reshape(1,-1)),ignore_index=True)"
      ],
      "metadata": {
        "id": "dI71KQ8B8673"
      },
      "execution_count": 159,
      "outputs": []
    },
    {
      "cell_type": "code",
      "source": [
        "df_new.shape"
      ],
      "metadata": {
        "colab": {
          "base_uri": "https://localhost:8080/"
        },
        "id": "XF789lxPeG4l",
        "outputId": "71b210f6-f902-4e00-f3e1-cc08913b197e"
      },
      "execution_count": 160,
      "outputs": [
        {
          "output_type": "execute_result",
          "data": {
            "text/plain": [
              "(5564, 100)"
            ]
          },
          "metadata": {},
          "execution_count": 160
        }
      ]
    },
    {
      "cell_type": "code",
      "source": [
        "# sentences with 100 dimensions\n",
        "df_new.head()"
      ],
      "metadata": {
        "colab": {
          "base_uri": "https://localhost:8080/",
          "height": 299
        },
        "id": "rZH7S_VkDBOn",
        "outputId": "0558ac98-7161-441d-9516-97ce2be5bffd"
      },
      "execution_count": 163,
      "outputs": [
        {
          "output_type": "execute_result",
          "data": {
            "text/plain": [
              "         0         1         2         3         4         5         6   \\\n",
              "0  0.154609 -0.140886  0.175476 -0.359447 -0.011373  0.334097  0.256454   \n",
              "1  0.125978 -0.119580  0.142830 -0.295430 -0.010687  0.272264  0.212524   \n",
              "2  0.162086 -0.142242  0.176655 -0.370914 -0.009273  0.344110  0.262651   \n",
              "3  0.220050 -0.206744  0.252645 -0.520019 -0.015660  0.481049  0.370581   \n",
              "4  0.173329 -0.162881  0.199891 -0.411318 -0.012927  0.379406  0.293430   \n",
              "\n",
              "         7         8         9   ...        90        91        92        93  \\\n",
              "0  0.084499  0.050006  0.092565  ... -0.168423  0.005670 -0.064839 -0.245212   \n",
              "1  0.068719  0.039765  0.076359  ... -0.140152  0.003899 -0.058514 -0.200573   \n",
              "2  0.087392  0.048641  0.093462  ... -0.173095  0.007253 -0.068700 -0.253436   \n",
              "3  0.121353  0.073174  0.133557  ... -0.247780  0.005469 -0.092560 -0.354782   \n",
              "4  0.095023  0.056839  0.106779  ... -0.195423  0.007979 -0.075818 -0.279146   \n",
              "\n",
              "         94        95        96        97        98        99  \n",
              "0  0.044382  0.030419  0.167871 -0.169364  0.319271 -0.102991  \n",
              "1  0.033658  0.028258  0.138971 -0.139665  0.263648 -0.082256  \n",
              "2  0.046868  0.032809  0.174604 -0.174763  0.330344 -0.106403  \n",
              "3  0.065128  0.044279  0.244863 -0.246951  0.462552 -0.148250  \n",
              "4  0.051623  0.034376  0.194645 -0.197156  0.365712 -0.118568  \n",
              "\n",
              "[5 rows x 100 columns]"
            ],
            "text/html": [
              "\n",
              "  <div id=\"df-03b35bd2-633c-4e68-ae23-3fef2b8f5b30\">\n",
              "    <div class=\"colab-df-container\">\n",
              "      <div>\n",
              "<style scoped>\n",
              "    .dataframe tbody tr th:only-of-type {\n",
              "        vertical-align: middle;\n",
              "    }\n",
              "\n",
              "    .dataframe tbody tr th {\n",
              "        vertical-align: top;\n",
              "    }\n",
              "\n",
              "    .dataframe thead th {\n",
              "        text-align: right;\n",
              "    }\n",
              "</style>\n",
              "<table border=\"1\" class=\"dataframe\">\n",
              "  <thead>\n",
              "    <tr style=\"text-align: right;\">\n",
              "      <th></th>\n",
              "      <th>0</th>\n",
              "      <th>1</th>\n",
              "      <th>2</th>\n",
              "      <th>3</th>\n",
              "      <th>4</th>\n",
              "      <th>5</th>\n",
              "      <th>6</th>\n",
              "      <th>7</th>\n",
              "      <th>8</th>\n",
              "      <th>9</th>\n",
              "      <th>...</th>\n",
              "      <th>90</th>\n",
              "      <th>91</th>\n",
              "      <th>92</th>\n",
              "      <th>93</th>\n",
              "      <th>94</th>\n",
              "      <th>95</th>\n",
              "      <th>96</th>\n",
              "      <th>97</th>\n",
              "      <th>98</th>\n",
              "      <th>99</th>\n",
              "    </tr>\n",
              "  </thead>\n",
              "  <tbody>\n",
              "    <tr>\n",
              "      <th>0</th>\n",
              "      <td>0.154609</td>\n",
              "      <td>-0.140886</td>\n",
              "      <td>0.175476</td>\n",
              "      <td>-0.359447</td>\n",
              "      <td>-0.011373</td>\n",
              "      <td>0.334097</td>\n",
              "      <td>0.256454</td>\n",
              "      <td>0.084499</td>\n",
              "      <td>0.050006</td>\n",
              "      <td>0.092565</td>\n",
              "      <td>...</td>\n",
              "      <td>-0.168423</td>\n",
              "      <td>0.005670</td>\n",
              "      <td>-0.064839</td>\n",
              "      <td>-0.245212</td>\n",
              "      <td>0.044382</td>\n",
              "      <td>0.030419</td>\n",
              "      <td>0.167871</td>\n",
              "      <td>-0.169364</td>\n",
              "      <td>0.319271</td>\n",
              "      <td>-0.102991</td>\n",
              "    </tr>\n",
              "    <tr>\n",
              "      <th>1</th>\n",
              "      <td>0.125978</td>\n",
              "      <td>-0.119580</td>\n",
              "      <td>0.142830</td>\n",
              "      <td>-0.295430</td>\n",
              "      <td>-0.010687</td>\n",
              "      <td>0.272264</td>\n",
              "      <td>0.212524</td>\n",
              "      <td>0.068719</td>\n",
              "      <td>0.039765</td>\n",
              "      <td>0.076359</td>\n",
              "      <td>...</td>\n",
              "      <td>-0.140152</td>\n",
              "      <td>0.003899</td>\n",
              "      <td>-0.058514</td>\n",
              "      <td>-0.200573</td>\n",
              "      <td>0.033658</td>\n",
              "      <td>0.028258</td>\n",
              "      <td>0.138971</td>\n",
              "      <td>-0.139665</td>\n",
              "      <td>0.263648</td>\n",
              "      <td>-0.082256</td>\n",
              "    </tr>\n",
              "    <tr>\n",
              "      <th>2</th>\n",
              "      <td>0.162086</td>\n",
              "      <td>-0.142242</td>\n",
              "      <td>0.176655</td>\n",
              "      <td>-0.370914</td>\n",
              "      <td>-0.009273</td>\n",
              "      <td>0.344110</td>\n",
              "      <td>0.262651</td>\n",
              "      <td>0.087392</td>\n",
              "      <td>0.048641</td>\n",
              "      <td>0.093462</td>\n",
              "      <td>...</td>\n",
              "      <td>-0.173095</td>\n",
              "      <td>0.007253</td>\n",
              "      <td>-0.068700</td>\n",
              "      <td>-0.253436</td>\n",
              "      <td>0.046868</td>\n",
              "      <td>0.032809</td>\n",
              "      <td>0.174604</td>\n",
              "      <td>-0.174763</td>\n",
              "      <td>0.330344</td>\n",
              "      <td>-0.106403</td>\n",
              "    </tr>\n",
              "    <tr>\n",
              "      <th>3</th>\n",
              "      <td>0.220050</td>\n",
              "      <td>-0.206744</td>\n",
              "      <td>0.252645</td>\n",
              "      <td>-0.520019</td>\n",
              "      <td>-0.015660</td>\n",
              "      <td>0.481049</td>\n",
              "      <td>0.370581</td>\n",
              "      <td>0.121353</td>\n",
              "      <td>0.073174</td>\n",
              "      <td>0.133557</td>\n",
              "      <td>...</td>\n",
              "      <td>-0.247780</td>\n",
              "      <td>0.005469</td>\n",
              "      <td>-0.092560</td>\n",
              "      <td>-0.354782</td>\n",
              "      <td>0.065128</td>\n",
              "      <td>0.044279</td>\n",
              "      <td>0.244863</td>\n",
              "      <td>-0.246951</td>\n",
              "      <td>0.462552</td>\n",
              "      <td>-0.148250</td>\n",
              "    </tr>\n",
              "    <tr>\n",
              "      <th>4</th>\n",
              "      <td>0.173329</td>\n",
              "      <td>-0.162881</td>\n",
              "      <td>0.199891</td>\n",
              "      <td>-0.411318</td>\n",
              "      <td>-0.012927</td>\n",
              "      <td>0.379406</td>\n",
              "      <td>0.293430</td>\n",
              "      <td>0.095023</td>\n",
              "      <td>0.056839</td>\n",
              "      <td>0.106779</td>\n",
              "      <td>...</td>\n",
              "      <td>-0.195423</td>\n",
              "      <td>0.007979</td>\n",
              "      <td>-0.075818</td>\n",
              "      <td>-0.279146</td>\n",
              "      <td>0.051623</td>\n",
              "      <td>0.034376</td>\n",
              "      <td>0.194645</td>\n",
              "      <td>-0.197156</td>\n",
              "      <td>0.365712</td>\n",
              "      <td>-0.118568</td>\n",
              "    </tr>\n",
              "  </tbody>\n",
              "</table>\n",
              "<p>5 rows × 100 columns</p>\n",
              "</div>\n",
              "      <button class=\"colab-df-convert\" onclick=\"convertToInteractive('df-03b35bd2-633c-4e68-ae23-3fef2b8f5b30')\"\n",
              "              title=\"Convert this dataframe to an interactive table.\"\n",
              "              style=\"display:none;\">\n",
              "        \n",
              "  <svg xmlns=\"http://www.w3.org/2000/svg\" height=\"24px\"viewBox=\"0 0 24 24\"\n",
              "       width=\"24px\">\n",
              "    <path d=\"M0 0h24v24H0V0z\" fill=\"none\"/>\n",
              "    <path d=\"M18.56 5.44l.94 2.06.94-2.06 2.06-.94-2.06-.94-.94-2.06-.94 2.06-2.06.94zm-11 1L8.5 8.5l.94-2.06 2.06-.94-2.06-.94L8.5 2.5l-.94 2.06-2.06.94zm10 10l.94 2.06.94-2.06 2.06-.94-2.06-.94-.94-2.06-.94 2.06-2.06.94z\"/><path d=\"M17.41 7.96l-1.37-1.37c-.4-.4-.92-.59-1.43-.59-.52 0-1.04.2-1.43.59L10.3 9.45l-7.72 7.72c-.78.78-.78 2.05 0 2.83L4 21.41c.39.39.9.59 1.41.59.51 0 1.02-.2 1.41-.59l7.78-7.78 2.81-2.81c.8-.78.8-2.07 0-2.86zM5.41 20L4 18.59l7.72-7.72 1.47 1.35L5.41 20z\"/>\n",
              "  </svg>\n",
              "      </button>\n",
              "      \n",
              "  <style>\n",
              "    .colab-df-container {\n",
              "      display:flex;\n",
              "      flex-wrap:wrap;\n",
              "      gap: 12px;\n",
              "    }\n",
              "\n",
              "    .colab-df-convert {\n",
              "      background-color: #E8F0FE;\n",
              "      border: none;\n",
              "      border-radius: 50%;\n",
              "      cursor: pointer;\n",
              "      display: none;\n",
              "      fill: #1967D2;\n",
              "      height: 32px;\n",
              "      padding: 0 0 0 0;\n",
              "      width: 32px;\n",
              "    }\n",
              "\n",
              "    .colab-df-convert:hover {\n",
              "      background-color: #E2EBFA;\n",
              "      box-shadow: 0px 1px 2px rgba(60, 64, 67, 0.3), 0px 1px 3px 1px rgba(60, 64, 67, 0.15);\n",
              "      fill: #174EA6;\n",
              "    }\n",
              "\n",
              "    [theme=dark] .colab-df-convert {\n",
              "      background-color: #3B4455;\n",
              "      fill: #D2E3FC;\n",
              "    }\n",
              "\n",
              "    [theme=dark] .colab-df-convert:hover {\n",
              "      background-color: #434B5C;\n",
              "      box-shadow: 0px 1px 3px 1px rgba(0, 0, 0, 0.15);\n",
              "      filter: drop-shadow(0px 1px 2px rgba(0, 0, 0, 0.3));\n",
              "      fill: #FFFFFF;\n",
              "    }\n",
              "  </style>\n",
              "\n",
              "      <script>\n",
              "        const buttonEl =\n",
              "          document.querySelector('#df-03b35bd2-633c-4e68-ae23-3fef2b8f5b30 button.colab-df-convert');\n",
              "        buttonEl.style.display =\n",
              "          google.colab.kernel.accessAllowed ? 'block' : 'none';\n",
              "\n",
              "        async function convertToInteractive(key) {\n",
              "          const element = document.querySelector('#df-03b35bd2-633c-4e68-ae23-3fef2b8f5b30');\n",
              "          const dataTable =\n",
              "            await google.colab.kernel.invokeFunction('convertToInteractive',\n",
              "                                                     [key], {});\n",
              "          if (!dataTable) return;\n",
              "\n",
              "          const docLinkHtml = 'Like what you see? Visit the ' +\n",
              "            '<a target=\"_blank\" href=https://colab.research.google.com/notebooks/data_table.ipynb>data table notebook</a>'\n",
              "            + ' to learn more about interactive tables.';\n",
              "          element.innerHTML = '';\n",
              "          dataTable['output_type'] = 'display_data';\n",
              "          await google.colab.output.renderOutput(dataTable, element);\n",
              "          const docLink = document.createElement('div');\n",
              "          docLink.innerHTML = docLinkHtml;\n",
              "          element.appendChild(docLink);\n",
              "        }\n",
              "      </script>\n",
              "    </div>\n",
              "  </div>\n",
              "  "
            ]
          },
          "metadata": {},
          "execution_count": 163
        }
      ]
    },
    {
      "cell_type": "code",
      "source": [
        "X=df_new # Independent Features\n",
        "y # dependent features"
      ],
      "metadata": {
        "colab": {
          "base_uri": "https://localhost:8080/"
        },
        "id": "LONxZQvVDBRb",
        "outputId": "9f0ddf7a-0379-4ca9-f1ea-4f4ce8637952"
      },
      "execution_count": 168,
      "outputs": [
        {
          "output_type": "execute_result",
          "data": {
            "text/plain": [
              "array([0, 0, 1, ..., 0, 0, 0], dtype=uint8)"
            ]
          },
          "metadata": {},
          "execution_count": 168
        }
      ]
    },
    {
      "cell_type": "code",
      "source": [
        "print(X.shape)\n",
        "print(y.shape)"
      ],
      "metadata": {
        "colab": {
          "base_uri": "https://localhost:8080/"
        },
        "id": "QaAH5pS0DfJV",
        "outputId": "5cf50ab7-e179-4ae8-e6c4-34f5a1b55650"
      },
      "execution_count": 169,
      "outputs": [
        {
          "output_type": "stream",
          "name": "stdout",
          "text": [
            "(5564, 100)\n",
            "(5564,)\n"
          ]
        }
      ]
    },
    {
      "cell_type": "code",
      "source": [
        "#checking null values:\n",
        "df_new.isnull().sum()"
      ],
      "metadata": {
        "colab": {
          "base_uri": "https://localhost:8080/"
        },
        "id": "-Ly6qOkgHT1a",
        "outputId": "f23189b3-c2a4-47f2-8d56-e287219e1e8c"
      },
      "execution_count": 186,
      "outputs": [
        {
          "output_type": "execute_result",
          "data": {
            "text/plain": [
              "0     68\n",
              "1     68\n",
              "2     68\n",
              "3     68\n",
              "4     68\n",
              "      ..\n",
              "95    68\n",
              "96    68\n",
              "97    68\n",
              "98    68\n",
              "99    68\n",
              "Length: 100, dtype: int64"
            ]
          },
          "metadata": {},
          "execution_count": 186
        }
      ]
    },
    {
      "cell_type": "code",
      "source": [
        "#dealing with Null values:\n",
        "\n",
        "df_new['Output']=y\n",
        "\n",
        "df_new.dropna(axis=0,inplace=True)\n",
        "df_new.isnull().sum()"
      ],
      "metadata": {
        "colab": {
          "base_uri": "https://localhost:8080/"
        },
        "id": "ZMDDqp_3H07K",
        "outputId": "5f2cdfcf-1c26-4f55-e0f8-028f33a94e11"
      },
      "execution_count": 190,
      "outputs": [
        {
          "output_type": "execute_result",
          "data": {
            "text/plain": [
              "0         0\n",
              "1         0\n",
              "2         0\n",
              "3         0\n",
              "4         0\n",
              "         ..\n",
              "96        0\n",
              "97        0\n",
              "98        0\n",
              "99        0\n",
              "Output    0\n",
              "Length: 101, dtype: int64"
            ]
          },
          "metadata": {},
          "execution_count": 190
        }
      ]
    },
    {
      "cell_type": "code",
      "source": [
        "#seperating independent and dependent features:\n",
        "X=df_new.iloc[:,:-1]\n",
        "y=df_new.iloc[:,-1:]"
      ],
      "metadata": {
        "id": "aSMzXBtOI_2u"
      },
      "execution_count": 193,
      "outputs": []
    },
    {
      "cell_type": "markdown",
      "source": [
        "#### Model Traning:\n",
        "we have converted words into vectors. \n",
        "Now we are going to apply ML algorithm to train the model."
      ],
      "metadata": {
        "id": "xVBn6TTHcLSm"
      }
    },
    {
      "cell_type": "code",
      "source": [
        "#train-test split\n",
        "from sklearn.model_selection import train_test_split\n",
        "X_train,X_test,y_train,y_test=train_test_split(X,y,test_size=0.2,random_state=2)"
      ],
      "metadata": {
        "id": "OZ99ux6XeF8V"
      },
      "execution_count": 194,
      "outputs": []
    },
    {
      "cell_type": "code",
      "source": [
        "print(X_train.shape,y_train.shape,X_test.shape,y_test.shape)"
      ],
      "metadata": {
        "colab": {
          "base_uri": "https://localhost:8080/"
        },
        "id": "pRrbnMnQbHhg",
        "outputId": "4af82057-ca05-40fa-8779-66caf2b44a44"
      },
      "execution_count": 195,
      "outputs": [
        {
          "output_type": "stream",
          "name": "stdout",
          "text": [
            "(4396, 100) (4396, 1) (1100, 100) (1100, 1)\n"
          ]
        }
      ]
    },
    {
      "cell_type": "code",
      "source": [
        "# applying ML algorithm to train the model\n",
        "from sklearn.ensemble import RandomForestClassifier\n",
        "spam_detection_model=RandomForestClassifier()"
      ],
      "metadata": {
        "id": "XYSz4C_TF_d6"
      },
      "execution_count": 196,
      "outputs": []
    },
    {
      "cell_type": "code",
      "source": [
        "spam_model=spam_detection_model.fit(X_train,y_train)"
      ],
      "metadata": {
        "colab": {
          "base_uri": "https://localhost:8080/"
        },
        "id": "7tKxi-x_GnyK",
        "outputId": "c4617559-974f-4414-adda-9f6ffb69ed95"
      },
      "execution_count": 197,
      "outputs": [
        {
          "output_type": "stream",
          "name": "stderr",
          "text": [
            "<ipython-input-197-8615833bed1a>:1: DataConversionWarning: A column-vector y was passed when a 1d array was expected. Please change the shape of y to (n_samples,), for example using ravel().\n",
            "  spam_model=spam_detection_model.fit(X_train,y_train)\n"
          ]
        }
      ]
    },
    {
      "cell_type": "code",
      "source": [
        "y_predict=spam_model.predict(X_test)"
      ],
      "metadata": {
        "id": "7N8QpK8IGyTZ"
      },
      "execution_count": 199,
      "outputs": []
    },
    {
      "cell_type": "markdown",
      "source": [
        "#### Model Evaluation"
      ],
      "metadata": {
        "id": "n3ZZcrsFJWHa"
      }
    },
    {
      "cell_type": "code",
      "source": [
        "from sklearn.metrics import classification_report,accuracy_score\n",
        "classification_report(y_test,y_predict)"
      ],
      "metadata": {
        "colab": {
          "base_uri": "https://localhost:8080/",
          "height": 88
        },
        "id": "_6nt7QHyI-YI",
        "outputId": "94b183e2-34c2-474b-9da2-ab9e08b92cb5"
      },
      "execution_count": 201,
      "outputs": [
        {
          "output_type": "execute_result",
          "data": {
            "text/plain": [
              "'              precision    recall  f1-score   support\\n\\n           0       0.96      0.99      0.98       954\\n           1       0.95      0.71      0.82       146\\n\\n    accuracy                           0.96      1100\\n   macro avg       0.96      0.85      0.90      1100\\nweighted avg       0.96      0.96      0.95      1100\\n'"
            ],
            "application/vnd.google.colaboratory.intrinsic+json": {
              "type": "string"
            }
          },
          "metadata": {},
          "execution_count": 201
        }
      ]
    },
    {
      "cell_type": "code",
      "source": [
        "accuracy_score(y_test,y_predict)"
      ],
      "metadata": {
        "colab": {
          "base_uri": "https://localhost:8080/"
        },
        "id": "l2hyK08-G7K4",
        "outputId": "e7e0f8f4-0c8e-486a-f66f-681736926647"
      },
      "execution_count": 203,
      "outputs": [
        {
          "output_type": "execute_result",
          "data": {
            "text/plain": [
              "0.9572727272727273"
            ]
          },
          "metadata": {},
          "execution_count": 203
        }
      ]
    },
    {
      "cell_type": "code",
      "source": [],
      "metadata": {
        "id": "zE1CHTsqJ3ge"
      },
      "execution_count": null,
      "outputs": []
    }
  ]
}